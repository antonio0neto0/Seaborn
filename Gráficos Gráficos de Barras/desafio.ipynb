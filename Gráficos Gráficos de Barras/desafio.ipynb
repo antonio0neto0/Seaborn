{
 "cells": [
  {
   "cell_type": "code",
   "execution_count": null,
   "metadata": {},
   "outputs": [],
   "source": [
    "# Desafio 1\n",
    "\n",
    "# Crie um gráfico de barra com base no arquivo cursos.csv(em anexo) que mostra a média da mensalidade de todos os cursos(algo que precisa ser calculado), onde a legenda mostra o ano que está sendo representado por cada barra de cada curso\n",
    "\n",
    "# Seu Gráfico de barra deve conter um tamanho adequado o suficiente para que os dados fiquem claramente visíveis e estar ordenado por mensalidade.\n",
    "\n",
    "# Utilizar a paleta de cores 'bright'\n",
    "\n",
    "# Desafio 2\n",
    "# Faça uma versão do gráfico no horizontal com a paleta de cores 'bright'\n",
    "\n",
    "# Desafio 3\n",
    "# Mostre em um gráfico de barra (com base no resultado do Desafio 1) apenas a diferença entre os cursos 'Engenharia Civil'  e 'Medicina', nos anos 2013 a 2015\n"
   ]
  }
 ],
 "metadata": {
  "kernelspec": {
   "display_name": "jhonatan",
   "language": "python",
   "name": "python3"
  },
  "language_info": {
   "codemirror_mode": {
    "name": "ipython",
    "version": 3
   },
   "file_extension": ".py",
   "mimetype": "text/x-python",
   "name": "python",
   "nbconvert_exporter": "python",
   "pygments_lexer": "ipython3",
   "version": "3.12.2"
  }
 },
 "nbformat": 4,
 "nbformat_minor": 2
}
