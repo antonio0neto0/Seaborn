{
 "cells": [
  {
   "cell_type": "code",
   "execution_count": null,
   "metadata": {},
   "outputs": [],
   "source": [
    "# Desafio 1\n",
    "# Dado as alturas a seguir, crie um histograma que mostra a altura dessa amostra da holanda e que siga as seguintes configurações:\n",
    "# 20 bins, cor: lightblue, edgecolor:black, width 2,linewidth 1, xlabel Alturas, ylabel Frequência, legenda: Alturas Holanda\n",
    "\n",
    "alturas_holanda = [179.6, 177.28, 189.36, 192.16, 168.08, 177.52, 179.76, 178.96,178.08, 174.64, 180.88, 184.88, 172.56, 181.28, 178.48, 187.68,171.84, 182.32, 185.2, 175.2, 171.2, 179.76, 185.04, 174.24,188.56, 194.56, 182.32, 188.64, 200.32, 184.88, 192.32, 174.08,174, 175.28, 187.44, 181.52, 186, 179.36, 177.92, 180.72,179.92, 187.84, 183.36, 196.88, 176, 186.96, 178.56, 166,178.24, 177.44]\n",
    "\n",
    "###### Desafio 2\n",
    "# Compare as alturas da holanda e estados unidos, colocando elas lado a lado em um histograma, seguindo as seguintes configurações:\n",
    "# 20 bins, cor: purple e yellow, edgecolor:black, width 2,linewidth 1, xlabel Alturas, ylabel Frequência, legendas: Alturas Holanda, Alturas EUA\n",
    "\n",
    "\n",
    "alturas_estados_unidos = [175.36, 188.4, 163.28, 172.48, 180.16, 182.88, 166.8, 183.04, 178.56, 169.2, 196.64, 171.12, 167.04, 170.8, 182.72, 166.4, 165.76, 166.08, 178, 169.68, 169.92, 172.56, 160.88, 176.32,181.52, 164.08, 173.52, 161.92, 176, 168.48, 180.48, 172.8, 157.44, 162.64, 185.12, 159.44, 170.16, 180.96, 181.12, 177.28, 192.88, 176.48, 170, 178.08, 172.8, 172.24, 158.96, 181.52, 162.32, 179.84]\n",
    "\n",
    "# Desafio 3\n",
    "# Dado o arquivo cursos.csv, mostre a frequência dos turnos cadastrados no arquivos cursos.csv\n",
    "# kde - Ligado\n",
    "# cor - blue\n",
    "\n",
    "\n",
    "# Desafio 4\n",
    "# Dado os arquivos cursos_2022.csv e cursos_2023.csv(em anexo), compare a frequência dos 'turnos' cadastrados em cada arquivo. O 'Ano' deve ser usado para categorizar os dados na legenda.\n",
    "\n",
    "# Use as configurações a seguir\n",
    "# KDE - Ligado\n",
    "# Paleta de cores - red, gold\n",
    "# separação das barras - lado a lado"
   ]
  }
 ],
 "metadata": {
  "kernelspec": {
   "display_name": "jhonatan",
   "language": "python",
   "name": "python3"
  },
  "language_info": {
   "codemirror_mode": {
    "name": "ipython",
    "version": 3
   },
   "file_extension": ".py",
   "mimetype": "text/x-python",
   "name": "python",
   "nbconvert_exporter": "python",
   "pygments_lexer": "ipython3",
   "version": "3.12.2"
  }
 },
 "nbformat": 4,
 "nbformat_minor": 2
}
