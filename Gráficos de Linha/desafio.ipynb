{
 "cells": [
  {
   "cell_type": "code",
   "execution_count": null,
   "metadata": {},
   "outputs": [],
   "source": [
    "# Baixe o arquivo cursos.csv \n",
    "\n",
    "# Crie um gráfico com múltiplas linhas que mostre a evolução da média do preço das mensalidades no período noturno dos cursos de Medicina, Odontologia e enfermagem das faculdades e universadades cadastradas no arquivo cursos.csv entre os anos de 2018 e 2022.\n",
    "\n",
    "# Outras especificações do gráfico:\n",
    "# 13,5 polegadas em tamanho\n",
    "# 150 de dpi\n",
    "# Markers - ligado\n",
    "# Dashes - ligado\n",
    "# Cores - 'green','purple','orange'\n",
    "# Título do gráfico \"Média das mensalidades entre 2018 a 2022\n",
    "# Nome da legenda: \"Curso\"\n",
    "# Legenda Eixo X: \"Ano\"\n",
    "# Legenda Eixa Y: \"Média de Mensalidade\"\n",
    "# Grid: ativa"
   ]
  },
  {
   "cell_type": "code",
   "execution_count": null,
   "metadata": {},
   "outputs": [],
   "source": []
  }
 ],
 "metadata": {
  "kernelspec": {
   "display_name": "jhonatan",
   "language": "python",
   "name": "python3"
  },
  "language_info": {
   "codemirror_mode": {
    "name": "ipython",
    "version": 3
   },
   "file_extension": ".py",
   "mimetype": "text/x-python",
   "name": "python",
   "nbconvert_exporter": "python",
   "pygments_lexer": "ipython3",
   "version": "3.12.2"
  }
 },
 "nbformat": 4,
 "nbformat_minor": 2
}
