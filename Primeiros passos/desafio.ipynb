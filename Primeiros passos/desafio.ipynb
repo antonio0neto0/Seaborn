{
 "cells": [
  {
   "cell_type": "code",
   "execution_count": 1,
   "metadata": {},
   "outputs": [],
   "source": [
    "import seaborn as sns\n",
    "import matplotlib.pyplot as plt\n",
    "\n",
    "# Desafio: Personalização \n",
    "# Com base nos dados fornecidos, crie um gráfico que mostre a evolução das vendas de acordo com os meses do segundo semestre (ou seja, dos meses fornecidos aqui).\n",
    "\n",
    "# Instruções do Desafio:\n",
    "# - Estilo de linha: sólida\n",
    "# - Cor da linha: #1efac3\n",
    "# - Texto da legenda: Legenda\n",
    "# - Posição da legenda: canto inferior direito\n",
    "# - Legenda eixo X: Meses\n",
    "# - Legenda eixo Y: Vendas\n",
    "# - Grid: ligado - darkgrid\n",
    "# - Tamanho do gráfico: 10x5 (polegadas)\n",
    "# - DPI: 150\n",
    "# - Cor externa: #1efac3\n",
    "\n",
    "# Dados:\n",
    "meses_desafio = ['Julho', 'Agosto', 'Setembro', 'Outubro', 'Novembro', 'Dezembro']\n",
    "vendas_desafio = [190, 210, 180, 200, 195, 220]"
   ]
  }
 ],
 "metadata": {
  "kernelspec": {
   "display_name": "jhonatan",
   "language": "python",
   "name": "python3"
  },
  "language_info": {
   "codemirror_mode": {
    "name": "ipython",
    "version": 3
   },
   "file_extension": ".py",
   "mimetype": "text/x-python",
   "name": "python",
   "nbconvert_exporter": "python",
   "pygments_lexer": "ipython3",
   "version": "3.12.2"
  }
 },
 "nbformat": 4,
 "nbformat_minor": 2
}
